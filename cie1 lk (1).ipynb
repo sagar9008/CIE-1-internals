{
 "cells": [
  {
   "cell_type": "code",
   "execution_count": 5,
   "id": "4c5f40c2-55f0-47a6-8b19-e370a30f9a5a",
   "metadata": {},
   "outputs": [
    {
     "name": "stdout",
     "output_type": "stream",
     "text": [
      "[[ 1  7]\n",
      " [13 14]\n",
      " [ 2 14]\n",
      " [ 5 17]]\n",
      "[[17  5]\n",
      " [14  2]\n",
      " [14 13]\n",
      " [ 7  1]]\n"
     ]
    }
   ],
   "source": [
    "import numpy as np\n",
    "arr=np.array([[1,7],[13,14]])\n",
    "arr1=np.array([[2,14],[5,17]])\n",
    "con=np.concatenate((arr,arr1),axis=0)\n",
    "print(con)\n",
    "rev=np.flip(con)\n",
    "print(rev)"
   ]
  },
  {
   "cell_type": "code",
   "execution_count": null,
   "id": "76d26ebd-d7ad-41e0-b12c-20841c9f9a26",
   "metadata": {},
   "outputs": [],
   "source": []
  },
  {
   "cell_type": "code",
   "execution_count": null,
   "id": "c3f2db1a-c461-4266-b1b6-3dc27caa3c6a",
   "metadata": {},
   "outputs": [],
   "source": []
  }
 ],
 "metadata": {
  "kernelspec": {
   "display_name": "Python 3 (ipykernel)",
   "language": "python",
   "name": "python3"
  },
  "language_info": {
   "codemirror_mode": {
    "name": "ipython",
    "version": 3
   },
   "file_extension": ".py",
   "mimetype": "text/x-python",
   "name": "python",
   "nbconvert_exporter": "python",
   "pygments_lexer": "ipython3",
   "version": "3.12.4"
  }
 },
 "nbformat": 4,
 "nbformat_minor": 5
}
